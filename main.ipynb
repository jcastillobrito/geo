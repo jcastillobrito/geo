{
 "cells": [
  {
   "cell_type": "code",
   "execution_count": null,
   "metadata": {
    "pycharm": {
     "name": "#%%\n",
     "is_executing": true
    }
   },
   "outputs": [],
   "source": [
    "import fiona\n",
    "import geojson\n",
    "\n"
   ]
  },
  {
   "cell_type": "code",
   "execution_count": null,
   "metadata": {
    "pycharm": {
     "name": "#%%\n"
    }
   },
   "outputs": [],
   "source": [
    "# Abrir archivo shape\n",
    "with fiona.open(\"data/manzanas_chile.shp\") as shapefile:\n",
    "    # Crear un objeto geojson vacío\n",
    "    features = []\n",
    "    # Recorrer las características del archivo shape\n",
    "    for feature in shapefile:\n",
    "        # Agregar la característica al objeto geojson\n",
    "        features.append(geojson.Feature(geometry=feature['geometry'], properties=feature['properties']))\n",
    "    # Crear un objeto FeatureCollection a partir de las características\n",
    "    feature_collection = geojson.FeatureCollection(features)\n",
    "    # Escribir el archivo geojson\n",
    "    with open(\"shapefile.geojson\", \"w\") as geojson_file:\n",
    "        geojson.dump(feature_collection, geojson_file)"
   ]
  }
 ],
 "metadata": {
  "kernelspec": {
   "display_name": "Python 3.11.0 ('geo')",
   "language": "python",
   "name": "python3"
  },
  "language_info": {
   "codemirror_mode": {
    "name": "ipython",
    "version": 3
   },
   "file_extension": ".py",
   "mimetype": "text/x-python",
   "name": "python",
   "nbconvert_exporter": "python",
   "pygments_lexer": "ipython3",
   "version": "3.11.0"
  },
  "orig_nbformat": 4,
  "vscode": {
   "interpreter": {
    "hash": "b6185a3a8777341ccb64a60ae87923c30d66588346f72fa21c70de107446643c"
   }
  }
 },
 "nbformat": 4,
 "nbformat_minor": 2
}